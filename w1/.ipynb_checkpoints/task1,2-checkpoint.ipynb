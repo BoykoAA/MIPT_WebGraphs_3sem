{
 "cells": [
  {
   "cell_type": "code",
   "execution_count": 14,
   "metadata": {},
   "outputs": [],
   "source": [
    "import numpy as np\n",
    "import networkx as nx\n",
    "import matplotlib.pyplot as plt\n",
    "%matplotlib inline"
   ]
  },
  {
   "cell_type": "code",
   "execution_count": null,
   "metadata": {},
   "outputs": [],
   "source": [
    "def proportion_of_pairs(distances, d):\n",
    "    count_d = 0\n",
    "    total_count = 0\n",
    "    for node in distances:\n",
    "        dists = np.array(list(node[1].values()))\n",
    "        count_d += np.sum(dists <= d) - 1\n",
    "        total_count += len(dists) - 1\n",
    "    \n",
    "    return (count_d, total_count)"
   ]
  },
  {
   "cell_type": "code",
   "execution_count": 15,
   "metadata": {},
   "outputs": [],
   "source": [
    "filename = '1.graph.txt'\n",
    "G = nx.read_edgelist(filename)"
   ]
  },
  {
   "cell_type": "code",
   "execution_count": 18,
   "metadata": {},
   "outputs": [
    {
     "name": "stdout",
     "output_type": "stream",
     "text": [
      "Кол-во вершин графа G:    3999\n",
      "Кол-во ребер графа G:     79271\n",
      "Кол-во компонетнт графа G: 2\n"
     ]
    }
   ],
   "source": [
    "print('Кол-во вершин графа G:   ', len(G.nodes()))\n",
    "print('Кол-во ребер графа G:    ', len(G.edges()))\n",
    "\n",
    "print('Кол-во компонетнт графа G: {}'.format(nx.number_connected_components(G)))"
   ]
  },
  {
   "cell_type": "code",
   "execution_count": 21,
   "metadata": {},
   "outputs": [
    {
     "data": {
      "text/plain": [
       "'Кол-во вершин в гигантской компоненте связности: 3994'"
      ]
     },
     "execution_count": 21,
     "metadata": {},
     "output_type": "execute_result"
    }
   ],
   "source": [
    "giant_components =  max(nx.connected_component_subgraphs(G), key=len) ## Гигантская компонента\n",
    "'Кол-во вершин в гигантской компоненте связности: {}'.format(giant_components.order())"
   ]
  },
  {
   "cell_type": "code",
   "execution_count": 22,
   "metadata": {},
   "outputs": [
    {
     "data": {
      "text/plain": [
       "11"
      ]
     },
     "execution_count": 22,
     "metadata": {},
     "output_type": "execute_result"
    }
   ],
   "source": [
    "print('Диаметр гигантской компоненты: ', nx.diameter(giant_components)) ## Диаметр гигантской компоненты"
   ]
  },
  {
   "cell_type": "code",
   "execution_count": null,
   "metadata": {},
   "outputs": [],
   "source": [
    "distances = list(nx.all_pairs_shortest_path_length(giant_components))"
   ]
  },
  {
   "cell_type": "code",
   "execution_count": null,
   "metadata": {},
   "outputs": [],
   "source": [
    "ds = list(range(1, 11))\n",
    "df = pd.DataFrame(index = ds, columns = ['Proportion'])\n",
    "\n",
    "for d in ds:\n",
    "    result = proportion_of_pairs(distances, d)\n",
    "    df.loc[d, 'Proportion'] = result[0] / result[1]"
   ]
  },
  {
   "cell_type": "code",
   "execution_count": null,
   "metadata": {},
   "outputs": [],
   "source": [
    "(0.90 - df.loc[5, 'Proportion']) / (df.loc[6, 'Proportion'] - df.loc[5, 'Proportion']) + 5"
   ]
  },
  {
   "cell_type": "code",
   "execution_count": null,
   "metadata": {},
   "outputs": [],
   "source": []
  },
  {
   "cell_type": "code",
   "execution_count": null,
   "metadata": {},
   "outputs": [],
   "source": []
  }
 ],
 "metadata": {
  "kernelspec": {
   "display_name": "Python 3",
   "language": "python",
   "name": "python3"
  },
  "language_info": {
   "codemirror_mode": {
    "name": "ipython",
    "version": 3
   },
   "file_extension": ".py",
   "mimetype": "text/x-python",
   "name": "python",
   "nbconvert_exporter": "python",
   "pygments_lexer": "ipython3",
   "version": "3.6.4"
  }
 },
 "nbformat": 4,
 "nbformat_minor": 2
}
